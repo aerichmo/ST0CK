{
 "cells": [
  {
   "cell_type": "code",
   "execution_count": 3,
   "metadata": {},
   "outputs": [],
   "source": [
    "from engine.delta_engine import calculate_greeks_from_market_price"
   ]
  },
  {
   "cell_type": "code",
   "execution_count": 42,
   "metadata": {},
   "outputs": [
    {
     "name": "stdout",
     "output_type": "stream",
     "text": [
      "CPU times: user 13.5 ms, sys: 219 μs, total: 13.7 ms\n",
      "Wall time: 13.7 ms\n"
     ]
    },
    {
     "data": {
      "text/plain": [
       "(0.401465334519137, -113.1553316558055, 0.008941211358060292)"
      ]
     },
     "execution_count": 42,
     "metadata": {},
     "output_type": "execute_result"
    }
   ],
   "source": [
    "%%time\n",
    "calculate_greeks_from_market_price(\n",
    "    option_market_price=11.9,\n",
    "    stock_price=595.44,\n",
    "    strike=610.44,\n",
    "    expiry_days=30,\n",
    "    option_type=\"call\",\n",
    "    risk_free_rate=0.05,\n",
    "    dividend_yield=0.0,\n",
    "    iv_steps=1000,\n",
    "    greeks_steps=1000\n",
    ")"
   ]
  },
  {
   "cell_type": "code",
   "execution_count": 32,
   "metadata": {},
   "outputs": [
    {
     "name": "stdout",
     "output_type": "stream",
     "text": [
      "CPU times: user 6.61 ms, sys: 89 μs, total: 6.7 ms\n",
      "Wall time: 6.67 ms\n"
     ]
    },
    {
     "data": {
      "text/plain": [
       "(0.40128082538354715, -113.43923554474233, 0.00896672354003085)"
      ]
     },
     "execution_count": 32,
     "metadata": {},
     "output_type": "execute_result"
    }
   ],
   "source": [
    "%%time\n",
    "calculate_greeks_from_market_price(\n",
    "    option_market_price=11.9,\n",
    "    stock_price=595.44,\n",
    "    strike=610.44,\n",
    "    expiry_days=30,\n",
    "    option_type=\"call\",\n",
    "    risk_free_rate=0.05,\n",
    "    dividend_yield=0.0,\n",
    "    iv_steps=100,\n",
    "    greeks_steps=100\n",
    ")"
   ]
  }
 ],
 "metadata": {
  "kernelspec": {
   "display_name": ".venv",
   "language": "python",
   "name": "python3"
  },
  "language_info": {
   "codemirror_mode": {
    "name": "ipython",
    "version": 3
   },
   "file_extension": ".py",
   "mimetype": "text/x-python",
   "name": "python",
   "nbconvert_exporter": "python",
   "pygments_lexer": "ipython3",
   "version": "3.13.1"
  }
 },
 "nbformat": 4,
 "nbformat_minor": 2
}
